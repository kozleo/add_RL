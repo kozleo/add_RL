{
 "cells": [
  {
   "cell_type": "code",
   "execution_count": 1,
   "id": "058b2cda",
   "metadata": {},
   "outputs": [
    {
     "name": "stdout",
     "output_type": "stream",
     "text": [
      "/rdma/vast-rdma/vast/fiete/leokoz8/code/add_RL\n"
     ]
    }
   ],
   "source": [
    "cd /rdma/vast-rdma/vast/fiete/leokoz8/code/add_RL"
   ]
  },
  {
   "cell_type": "code",
   "execution_count": 2,
   "id": "c11e7764",
   "metadata": {},
   "outputs": [],
   "source": [
    "import numpy as np\n",
    "import matplotlib.pyplot as plt\n",
    "from src import utils\n",
    "from tqdm import tqdm\n",
    "from scipy.special import softmax\n",
    "%load_ext autoreload\n",
    "%autoreload 2"
   ]
  },
  {
   "cell_type": "code",
   "execution_count": 314,
   "id": "0fd6c526",
   "metadata": {},
   "outputs": [],
   "source": [
    "num_actions = 20\n",
    "\n",
    "\n",
    "#drug parameters d(t) = k * t * * tau exp(-t * tau)\n",
    "tau = 0.3\n",
    "k = 0\n",
    "drug_time_delay = 0\n",
    "\n",
    "\n",
    "# Set simulation parameters\n",
    "epsilon = 0.1\n",
    "T = 50\n",
    "num_episodes = 1000\n",
    "\n",
    "\n",
    "\n",
    "rs = np.zeros(num_episodes)\n",
    "\n",
    "\n",
    "prob_of_drug_press = 0\n",
    "prob_of_random_choice = 1 / n_actions\n",
    "\n",
    "\n",
    "\n",
    "ds = np.zeros(T)\n",
    "\n",
    "\n",
    "def do_single_session(num_actions):\n",
    "    ## States\n",
    "    # 0 - Lever Available\n",
    "    # 1 - ISI\n",
    "\n",
    "    ## Actions\n",
    "    # 0 - Drug Press\n",
    "    # 1 - Sugar Press\n",
    "\n",
    "    n_actions = num_actions\n",
    "    actions = range(num_actions)\n",
    "    n_states = 2\n",
    "\n",
    "    # Initialize actor (theta) and critic (w) weights\n",
    "    theta = np.random.normal(size = n_actions)\n",
    "    w = np.random.normal(size = n_states)\n",
    "    \n",
    "    # Initialize actor and critic eligibility traces and hyperparameters\n",
    "    z_theta = np.zeros(n_actions)\n",
    "    z_w = np.zeros(n_states)\n",
    "    \n",
    "\n",
    "    \n",
    "    rewards = np.random.uniform(size=(n_states, n_actions))\n",
    "\n",
    "    # Set rewards for pressing the sugar lever and drug lever. \n",
    "    # Sugar lever should be off during ISI and high during lever.\n",
    "    # Drug reward will be a time-varying thing with delay\n",
    "    rewards[:, 0] = 0\n",
    "\n",
    "    rewards[0, 1] = 1\n",
    "    rewards[1, 1] = 0\n",
    "    \n",
    "    actions_taken_at_lever = np.zeros((num_episodes, n_actions))\n",
    "    E = np.zeros((n_states, n_actions))\n",
    "\n",
    "    # Loop over episodes\n",
    "    for episode in range(num_episodes):\n",
    "\n",
    "        # Reset state and eligibility\n",
    "        S = [1,0]\n",
    "        \n",
    "\n",
    "        # Choose initial action using epsilon-greedy policy\n",
    "        a_probs = softmax(theta)\n",
    "        a = np.random.choice(actions,p = a_probs)\n",
    "        \n",
    "        \n",
    "        actions_taken_at_lever[episode, a] = 1\n",
    "\n",
    "        if a == 0:\n",
    "            drug_press = True\n",
    "        else:\n",
    "            drug_press = False\n",
    "\n",
    "        # Observe reward and update Q-values and eligibility traces\n",
    "        r = rewards[s, a]\n",
    "        I = 1       \n",
    "        \n",
    "        z_w,z_theta,w,theta,I = utils.update_actor_critic(S,a,z_w,z_theta,w,theta,I,r)\n",
    "        \n",
    "\n",
    "        # Set state to ISI\n",
    "        S = [0,1]\n",
    "        s_prime = [0,1]\n",
    "        r_ep = 0\n",
    "\n",
    "\n",
    "        # Loop over time steps within the episode\n",
    "        for t in range(T):\n",
    "            \n",
    "            if drug_press:\n",
    "\n",
    "                # Calculate dopamine release\n",
    "                d = utils.dopamine_release(t -drug_time_delay, 'quick_rise',\n",
    "                                           k=k, tau=tau, sigma=1.2)\n",
    "            else:\n",
    "                d = 0\n",
    "\n",
    "            # Choose action using softmax policy\n",
    "            a_probs = softmax(theta)\n",
    "            a = np.random.choice(actions,p = a_probs)\n",
    "        \n",
    "            z_w,z_theta,w,theta,I = utils.update_actor_critic(S,a,z_w,z_theta,w,theta,I,r)\n",
    "\n",
    "            # Observe reward and update Q-values and eligibility traces\n",
    "            ds[t] += d\n",
    "            r = rewards[s, a] + d\n",
    "            r_ep += r\n",
    "\n",
    "\n",
    "        rs[episode] = r_ep\n",
    "    \n",
    "    proportion_drug = np.mean(actions_taken_at_lever,axis = 0)[0]\n",
    "        \n",
    "    return actions_taken_at_lever,proportion_drug,w,theta,ds,rewards\n"
   ]
  },
  {
   "cell_type": "code",
   "execution_count": 315,
   "id": "6378ff3f",
   "metadata": {},
   "outputs": [
    {
     "data": {
      "text/plain": [
       "(array([0., 0., 0., 0., 0., 1., 0., 0., 0., 0.]),\n",
       " array([-0.5, -0.4, -0.3, -0.2, -0.1,  0. ,  0.1,  0.2,  0.3,  0.4,  0.5]),\n",
       " <BarContainer object of 10 artists>)"
      ]
     },
     "execution_count": 315,
     "metadata": {},
     "output_type": "execute_result"
    },
    {
     "data": {
      "image/png": "[encoded data removed]",
      "text/plain": [
       "<Figure size 432x288 with 1 Axes>"
      ]
     },
     "metadata": {
      "needs_background": "light"
     },
     "output_type": "display_data"
    }
   ],
   "source": [
    "num_sessions = 1\n",
    "drug_proportions = np.zeros(num_sessions)\n",
    "for i in range(num_sessions):\n",
    "    actions_taken_at_lever,proportion_drug,w,theta,ds,rewards = do_single_session(num_actions)\n",
    "    drug_proportions[i] = proportion_drug\n",
    "plt.hist(drug_proportions)"
   ]
  },
  {
   "cell_type": "code",
   "execution_count": 317,
   "id": "1ea9d541",
   "metadata": {},
   "outputs": [
    {
     "data": {
      "image/png": "[encoded data removed]",
      "text/plain": [
       "<Figure size 432x288 with 1 Axes>"
      ]
     },
     "metadata": {
      "needs_background": "light"
     },
     "output_type": "display_data"
    }
   ],
   "source": [
    "ind = np.argmax(rewards[1,:])\n",
    "plt.plot(np.cumsum(actions_taken_at_lever[:,:],axis = 0));"
   ]
  },
  {
   "cell_type": "code",
   "execution_count": 4,
   "id": "b6efa369",
   "metadata": {},
   "outputs": [],
   "source": [
    "\n",
    "\n",
    "num_actions = 20\n",
    "\n",
    "\n",
    "#drug parameters d(t) = k * t * * tau exp(-t * tau)\n",
    "tau = 0.3\n",
    "k = 10\n",
    "drug_time_delay = 1\n",
    "\n",
    "\n",
    "# Set simulation parameters\n",
    "epsilon = 0.1\n",
    "T = 50\n",
    "num_episodes = 1000\n",
    "\n",
    "\n",
    "\n",
    "#Q function update parameters\n",
    "gamma = 1\n",
    "alpha = 0.001\n",
    "lam = 0.9\n",
    "\n",
    "\n",
    "\n",
    "rs = np.zeros(num_episodes)\n",
    "\n",
    "\n",
    "prob_of_drug_press = 0\n",
    "#prob_of_random_choice = 1 / n_actions\n",
    "\n",
    "\n",
    "\n",
    "ds = np.zeros(T)\n",
    "\n",
    "\n",
    "def do_single_session(num_actions):\n",
    "    ## States\n",
    "    # 0 - Lever Available\n",
    "    # 1 - ISI\n",
    "\n",
    "    ## Actions\n",
    "    # 0 - Drug Press\n",
    "    # 1 - Sugar Press\n",
    "\n",
    "    n_actions = num_actions\n",
    "    n_states = 2\n",
    "\n",
    "    # Initialize Q-values, eligibility traces, and rewards\n",
    "    Q = np.zeros((n_states, n_actions))\n",
    "\n",
    "    rewards = np.random.uniform(size=(n_states, n_actions))\n",
    "\n",
    "    # Set rewards for pressing the sugar lever and drug lever. \n",
    "    # Sugar lever should be off during ISI and high during lever.\n",
    "    # Drug reward will be a time-varying thing with delay\n",
    "    rewards[:, 0] = 0\n",
    "\n",
    "    rewards[0, 1] = 1\n",
    "    rewards[1, 1] = 0\n",
    "    \n",
    "    actions_taken_at_lever = np.zeros((num_episodes, n_actions))\n",
    "    E = np.zeros((n_states, n_actions))\n",
    "\n",
    "    # Loop over episodes\n",
    "    for episode in range(num_episodes):\n",
    "\n",
    "        # Reset state and eligibility\n",
    "        s = 0\n",
    "        \n",
    "\n",
    "        # Choose initial action using epsilon-greedy policy\n",
    "        a = utils.epsilon_greedy_policy(s, Q, epsilon, n_actions)\n",
    "\n",
    "        actions_taken_at_lever[episode, a] = 1\n",
    "\n",
    "        if a == 0:\n",
    "            drug_press = True\n",
    "        else:\n",
    "            drug_press = False\n",
    "\n",
    "        # Observe reward and update Q-values and eligibility traces\n",
    "        r = rewards[s, a]\n",
    "        Q, E = utils.update_Q_and_E(Q=Q, E=E, s=s, s_prime=s, a=a, r=r,\n",
    "                                    gamma=gamma, alpha=alpha, lam=lam, d=0)\n",
    "\n",
    "        # Set state to ISI\n",
    "        s = 1  \n",
    "        s_prime = 1\n",
    "        r_ep = 0\n",
    "\n",
    "        # Loop over time steps within the episode\n",
    "        for t in range(T):\n",
    "            \n",
    "            print(E[0,0])\n",
    "\n",
    "            if drug_press:\n",
    "\n",
    "                # Calculate dopamine release\n",
    "                d = utils.dopamine_release(t -drug_time_delay, 'quick_rise',\n",
    "                                           k=k, tau=tau, sigma=1.2)\n",
    "            else:\n",
    "                d = 0\n",
    "\n",
    "            # Choose action using epsilon-greedy policy\n",
    "            a = utils.epsilon_greedy_policy(s, Q, epsilon, n_actions)\n",
    "\n",
    "            # Observe reward and update Q-values and eligibility traces\n",
    "            ds[t] += d\n",
    "            r = rewards[s, a] + d\n",
    "            r_ep += r\n",
    "            Q, E = utils.update_Q_and_E(Q, E, s, s_prime, a, r,\n",
    "                                        gamma, alpha, lam, d)\n",
    "\n",
    "        rs[episode] = r_ep\n",
    "    \n",
    "    proportion_drug = np.mean(actions_taken_at_lever,axis = 0)[0]\n",
    "        \n",
    "    return actions_taken_at_lever,proportion_drug,Q,E,ds,rewards\n"
   ]
  },
  {
   "cell_type": "code",
   "execution_count": 137,
   "id": "60d0d663",
   "metadata": {},
   "outputs": [
    {
     "data": {
      "text/plain": [
       "Text(0.5, 1.0, 'No Dopamine Release')"
      ]
     },
     "execution_count": 137,
     "metadata": {},
     "output_type": "execute_result"
    },
    {
     "data": {
      "image/png": "[encoded data removed]",
      "text/plain": [
       "<Figure size 432x288 with 1 Axes>"
      ]
     },
     "metadata": {
      "needs_background": "light"
     },
     "output_type": "display_data"
    }
   ],
   "source": [
    "actions_cum_sum = np.cumsum((actions_taken_at_lever),axis = 0)\n",
    "\n",
    "plt.plot(actions_cum_sum[:,0], label = 'Drug Press');\n",
    "plt.plot(actions_cum_sum[:,1], label = 'Sugar Press');\n",
    "plt.plot(actions_cum_sum[:,2], label = 'Other',color = 'k');\n",
    "\n",
    "for i in range(2,actions_cum_sum.shape[1]):\n",
    "    plt.plot(actions_cum_sum[:,i], color = 'k',alpha = 0.2);\n",
    "\n",
    "    \n",
    "#plt.plot(actions_cum_sum[:,2:], label = 'Other');\n",
    "plt.legend()\n",
    "\n",
    "plt.ylabel('Cumulative Number of Times Actions Taken')\n",
    "plt.xlabel('Episode Number')\n",
    "plt.title('No Dopamine Release')\n"
   ]
  },
  {
   "cell_type": "code",
   "execution_count": null,
   "id": "91e84321",
   "metadata": {},
   "outputs": [],
   "source": []
  },
  {
   "cell_type": "code",
   "execution_count": 553,
   "id": "e4fdaecc",
   "metadata": {},
   "outputs": [],
   "source": [
    "#import numpy as np\n",
    "#import gym\n",
    "\n",
    "\n",
    "\n",
    "\n",
    "def env_step(R,t,state,action,drug_on):\n",
    "    \n",
    "    if state == 0 and action == 0:\n",
    "        drug_on = 1       \n",
    "\n",
    "    next_state = 1\n",
    "    \n",
    "    return next_state, R[state,action], drug_on\n",
    "\n",
    "# Define the SARSA-lambda function\n",
    "def sarsa_lambda(num_episodes, alpha, gamma, lambd, epsilon,t_delay,R):\n",
    "    \n",
    "    np.random.seed(42)\n",
    "    \n",
    "    \n",
    "    # Initialize Q-function and eligibility trace\n",
    "    observation_space = 2\n",
    "    action_space = 50\n",
    "    \n",
    "     \n",
    "\n",
    "    \n",
    "    Q = np.zeros((observation_space, action_space))\n",
    "    E = np.zeros((observation_space, action_space))\n",
    "    rewards = []\n",
    "    actions = np.zeros((num_episodes,action_space))\n",
    "    \n",
    "    # Loop over episodes\n",
    "    for i in range(num_episodes):\n",
    "        \n",
    "        # Reset environment\n",
    "        state = 0\n",
    "        drug_on = 0\n",
    "        \n",
    "        action = epsilon_greedy(Q[state], epsilon)\n",
    "        episode_reward = 0\n",
    "        \n",
    "        actions[i,action] = 1\n",
    "        \n",
    "        # Loop over timesteps within episode\n",
    "        for t in range(50):           \n",
    "            \n",
    "            \n",
    "            # Take action and observe next state and reward\n",
    "            next_state, reward,drug_on = env_step(R,t,state,action,drug_on)            \n",
    "            \n",
    "            next_action = epsilon_greedy(Q[next_state], epsilon)\n",
    "            \n",
    "            # Update eligibility trace and Q-function            \n",
    "            dopamine = utils.dopamine_release(t-t_delay, release_type = 'gauss',k = 1,tau = 1, sigma = 2)\n",
    "            \n",
    "            delta = reward + gamma * Q[next_state, next_action] - Q[state, action] + drug_on * dopamine\n",
    "            \n",
    "            E[state, action] += 1\n",
    "            for s in range(observation_space):\n",
    "                for a in range(action_space):\n",
    "                    Q[s, a] += alpha * delta * E[s, a]\n",
    "                    E[s, a] = gamma * lambd * E[s, a]\n",
    "            \n",
    "            # Update state, action, and episode reward\n",
    "            state = next_state\n",
    "            action = next_action\n",
    "            episode_reward += reward\n",
    "        \n",
    "        # Append episode reward to list\n",
    "        rewards.append(episode_reward)\n",
    "        \n",
    "    # Return learned Q-function and list of episode rewards\n",
    "    return Q, rewards,actions\n",
    "\n",
    "# Define an epsilon-greedy policy for action selection\n",
    "def epsilon_greedy(Q_s, epsilon):\n",
    "    if np.random.rand() < epsilon:\n",
    "        return np.random.randint(len(Q_s))\n",
    "    else:\n",
    "        return np.argmax(Q_s)\n",
    "\n",
    "\n",
    "\n",
    "#print(np.mean(actions,0))"
   ]
  },
  {
   "cell_type": "code",
   "execution_count": 559,
   "id": "9538c07a",
   "metadata": {},
   "outputs": [],
   "source": [
    "R = np.random.normal(size = (2, 50))\n",
    "R[0,0] = 0\n",
    "\n",
    "delays = np.arange(0,10,1)\n",
    "\n",
    "rewards_over_sessions = []\n",
    "drug_press_over_sessions = []\n",
    "\n",
    "for i in delays:\n",
    "    Q, rewards,actions = sarsa_lambda(num_episodes=1000, alpha=0.05, gamma=0.99, lambd=0.9, epsilon=0.1, t_delay = i, R = R)\n",
    "    actions_cumsum = np.cumsum(actions,axis = 0)[:,0]\n",
    "    \n",
    "    \n",
    "    \n",
    "    \n",
    "    rewards_over_sessions.append(rewards)\n",
    "    drug_press_over_sessions.append(actions_cumsum)\n",
    "rewards_over_sessions = np.stack(rewards_over_sessions)\n",
    "drug_press_over_sessions = np.stack(drug_press_over_sessions)\n",
    "    \n",
    "    \n",
    "\n",
    "\n",
    "#plt.plot(actions_cumsum);\n"
   ]
  },
  {
   "cell_type": "code",
   "execution_count": 560,
   "id": "da19e2e8",
   "metadata": {},
   "outputs": [
    {
     "data": {
      "text/plain": [
       "[<matplotlib.lines.Line2D at 0x2ae280b99790>,\n",
       " <matplotlib.lines.Line2D at 0x2ae280b997f0>,\n",
       " <matplotlib.lines.Line2D at 0x2ae280b99820>,\n",
       " <matplotlib.lines.Line2D at 0x2ae280b99910>,\n",
       " <matplotlib.lines.Line2D at 0x2ae280b99a00>,\n",
       " <matplotlib.lines.Line2D at 0x2ae280b99af0>,\n",
       " <matplotlib.lines.Line2D at 0x2ae280b99be0>,\n",
       " <matplotlib.lines.Line2D at 0x2ae280b99cd0>,\n",
       " <matplotlib.lines.Line2D at 0x2ae280b99dc0>,\n",
       " <matplotlib.lines.Line2D at 0x2ae280b99eb0>]"
      ]
     },
     "execution_count": 560,
     "metadata": {},
     "output_type": "execute_result"
    },
    {
     "data": {
      "image/png": "[encoded data removed]",
      "text/plain": [
       "<Figure size 432x288 with 1 Axes>"
      ]
     },
     "metadata": {
      "needs_background": "light"
     },
     "output_type": "display_data"
    }
   ],
   "source": [
    "plt.plot(drug_press_over_sessions.T)"
   ]
  },
  {
   "cell_type": "code",
   "execution_count": 565,
   "id": "fa8aeb0e",
   "metadata": {},
   "outputs": [
    {
     "data": {
      "text/plain": [
       "<matplotlib.legend.Legend at 0x2ae2821ebbe0>"
      ]
     },
     "execution_count": 565,
     "metadata": {},
     "output_type": "execute_result"
    },
    {
     "data": {
      "image/png": "[encoded data removed]",
      "text/plain": [
       "<Figure size 432x288 with 1 Axes>"
      ]
     },
     "metadata": {
      "needs_background": "light"
     },
     "output_type": "display_data"
    }
   ],
   "source": [
    "plt.plot(rewards_over_sessions[0,:],label = 'no delay')\n",
    "#plt.plot(rewards_over_sessions[1,:],label = 'delay')\n",
    "plt.plot(rewards_over_sessions[2,:],label = 'delay 2')\n",
    "#plt.plot(rewards_over_sessions[2,:])\n",
    "#plt.plot(rewards_over_sessions[3,:])\n",
    "#plt.plot(rewards_over_sessions[9,:])\n",
    "plt.legend()"
   ]
  },
  {
   "cell_type": "code",
   "execution_count": 526,
   "id": "80c2d796",
   "metadata": {},
   "outputs": [
    {
     "data": {
      "text/plain": [
       "[<matplotlib.lines.Line2D at 0x2ae281642760>]"
      ]
     },
     "execution_count": 526,
     "metadata": {},
     "output_type": "execute_result"
    },
    {
     "data": {
      "image/png": "[encoded data removed]",
      "text/plain": [
       "<Figure size 432x288 with 1 Axes>"
      ]
     },
     "metadata": {
      "needs_background": "light"
     },
     "output_type": "display_data"
    }
   ],
   "source": [
    "from scipy.stats import lognorm\n",
    "rv = lognorm(s = .01)\n",
    "t = np.linspace(0,10,100)\n",
    "\n",
    "d = utils.dopamine_release(t-4, release_type = 'gauss',k = 1,tau = 1,sigma = 2)\n",
    "\n",
    "plt.plot(t,d)"
   ]
  }
 ],
 "metadata": {
  "kernelspec": {
   "display_name": "Python [conda env:leokoz8-add_RL] *",
   "language": "python",
   "name": "conda-env-leokoz8-add_RL-py"
  },
  "language_info": {
   "codemirror_mode": {
    "name": "ipython",
    "version": 3
   },
   "file_extension": ".py",
   "mimetype": "text/x-python",
   "name": "python",
   "nbconvert_exporter": "python",
   "pygments_lexer": "ipython3",
   "version": "3.8.16"
  }
 },
 "nbformat": 4,
 "nbformat_minor": 5
}
